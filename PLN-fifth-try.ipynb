{
 "cells": [
  {
   "cell_type": "code",
   "execution_count": null,
   "id": "ce5bfa71",
   "metadata": {},
   "outputs": [],
   "source": [
    "import pandas as pd\n",
    "import copy\n",
    "\n",
    "# importa dataset\n",
    "mental_health_conversation_dataset = pd.read_csv('./datasets/Mental_Health_FAQ.csv')\n",
    "mental_health_conversation_dataset.drop(columns=['Question_ID'], axis=0, inplace=True)\n",
    "# importa dataset\n",
    "QA_python_dataset = pd.read_csv('./datasets/Dataset_Python_Question_Answer.csv')\n",
    "QA_python_dataset = QA_python_dataset.rename(columns={\"Question\": \"Questions\", \"Answer\": \"Answers\"})\n",
    "#importa dataset\n",
    "conversation_3d_chatbot = pd.read_csv('./datasets/3d-conversation-chatbot.csv')\n",
    "conversation_3d_chatbot.drop(columns=['Unnamed: 0'], axis=0, inplace=True)\n",
    "conversation_3d_chatbot = conversation_3d_chatbot.rename(columns={\"question\": \"Questions\", \"answer\": \"Answers\"})\n",
    "#importa dataset\n",
    "# file = open(\"./datasets/jungleb.txt\", \"r\")\n",
    "# the_jungle_book = file.read()\n",
    "# file.close()\n",
    "# junta datasets\n",
    "df_concated = pd.concat([mental_health_conversation_dataset, QA_python_dataset, conversation_3d_chatbot], ignore_index=True)\n",
    "# tira dados vazios\n",
    "df_concated.dropna()\n",
    "# reseta indexes\n",
    "df_concated = df_concated.reset_index(drop=True)\n",
    "# clona dataset para conservar tratamento\n",
    "df_clone = copy.deepcopy(df_concated)\n",
    "# junta colunas\n",
    "data = {\"text\": []}\n",
    "# data['text'].append(the_jungle_book)\n",
    "for x in range(0, len(df_clone)):\n",
    "    text = \"\".join(df_clone['Questions'][x]+\" \"+df_clone['Answers'][x])\n",
    "    data['text'].append(text) \n",
    "df_merged = pd.DataFrame(data)\n",
    "df_clone2 = df_merged.copy()\n",
    "print('done!')"
   ]
  },
  {
   "cell_type": "code",
   "execution_count": null,
   "id": "8cb21000",
   "metadata": {},
   "outputs": [],
   "source": [
    "text = df_clone2.text.values\n",
    "joined_text = \"\".join(text)\n",
    "print('done!')"
   ]
  },
  {
   "cell_type": "code",
   "execution_count": null,
   "id": "34d98fcd",
   "metadata": {},
   "outputs": [],
   "source": [
    "joined_text = joined_text[:500000]"
   ]
  },
  {
   "cell_type": "code",
   "execution_count": null,
   "id": "015c85cf",
   "metadata": {},
   "outputs": [],
   "source": [
    "import random\n",
    "\n",
    "import numpy as np\n",
    "from nltk.tokenize import RegexpTokenizer\n",
    "\n",
    "import tensorflow as tf\n",
    "from tensorflow.keras.models import load_model\n",
    "from tensorflow.keras.layers import LSTM, Dense, Activation\n",
    "from tensorflow.keras.optimizers import RMSprop\n",
    "print('done!')"
   ]
  },
  {
   "cell_type": "code",
   "execution_count": null,
   "id": "07c02fc6",
   "metadata": {},
   "outputs": [],
   "source": []
  },
  {
   "cell_type": "code",
   "execution_count": null,
   "id": "01b01580",
   "metadata": {},
   "outputs": [],
   "source": []
  },
  {
   "cell_type": "code",
   "execution_count": null,
   "id": "4919b7b9",
   "metadata": {},
   "outputs": [],
   "source": []
  },
  {
   "cell_type": "code",
   "execution_count": null,
   "id": "615aadca",
   "metadata": {},
   "outputs": [],
   "source": []
  },
  {
   "cell_type": "code",
   "execution_count": null,
   "id": "0bc5f8a5",
   "metadata": {},
   "outputs": [],
   "source": []
  },
  {
   "cell_type": "code",
   "execution_count": null,
   "id": "1a913e9d",
   "metadata": {},
   "outputs": [],
   "source": []
  },
  {
   "cell_type": "code",
   "execution_count": null,
   "id": "95786c4e",
   "metadata": {},
   "outputs": [],
   "source": []
  },
  {
   "cell_type": "code",
   "execution_count": null,
   "id": "25b58987",
   "metadata": {},
   "outputs": [],
   "source": []
  },
  {
   "cell_type": "code",
   "execution_count": null,
   "id": "f466ba9c",
   "metadata": {},
   "outputs": [],
   "source": []
  },
  {
   "cell_type": "code",
   "execution_count": null,
   "id": "8f68894e",
   "metadata": {},
   "outputs": [],
   "source": []
  },
  {
   "cell_type": "code",
   "execution_count": null,
   "id": "a7cafca2",
   "metadata": {},
   "outputs": [],
   "source": []
  },
  {
   "cell_type": "code",
   "execution_count": null,
   "id": "e195c502",
   "metadata": {},
   "outputs": [],
   "source": []
  },
  {
   "cell_type": "code",
   "execution_count": null,
   "id": "7b6c87a1",
   "metadata": {},
   "outputs": [],
   "source": []
  },
  {
   "cell_type": "code",
   "execution_count": null,
   "id": "1125fc5a",
   "metadata": {},
   "outputs": [],
   "source": []
  },
  {
   "cell_type": "code",
   "execution_count": null,
   "id": "f802057a",
   "metadata": {},
   "outputs": [],
   "source": []
  },
  {
   "cell_type": "code",
   "execution_count": null,
   "id": "95e42c6a",
   "metadata": {},
   "outputs": [],
   "source": []
  },
  {
   "cell_type": "code",
   "execution_count": null,
   "id": "88356bff",
   "metadata": {},
   "outputs": [],
   "source": []
  },
  {
   "cell_type": "code",
   "execution_count": null,
   "id": "2fe186d1",
   "metadata": {},
   "outputs": [],
   "source": []
  },
  {
   "cell_type": "code",
   "execution_count": null,
   "id": "e54ced44",
   "metadata": {},
   "outputs": [],
   "source": []
  },
  {
   "cell_type": "code",
   "execution_count": null,
   "id": "f2d7eaeb",
   "metadata": {},
   "outputs": [],
   "source": []
  },
  {
   "cell_type": "code",
   "execution_count": null,
   "id": "52a80caf",
   "metadata": {},
   "outputs": [],
   "source": []
  }
 ],
 "metadata": {
  "kernelspec": {
   "display_name": "Python 3 (ipykernel)",
   "language": "python",
   "name": "python3"
  },
  "language_info": {
   "codemirror_mode": {
    "name": "ipython",
    "version": 3
   },
   "file_extension": ".py",
   "mimetype": "text/x-python",
   "name": "python",
   "nbconvert_exporter": "python",
   "pygments_lexer": "ipython3",
   "version": "3.11.7"
  }
 },
 "nbformat": 4,
 "nbformat_minor": 5
}
