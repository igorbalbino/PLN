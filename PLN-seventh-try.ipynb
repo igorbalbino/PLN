{
 "cells": [
  {
   "cell_type": "code",
   "execution_count": 1,
   "id": "cc753eae",
   "metadata": {},
   "outputs": [
    {
     "name": "stdout",
     "output_type": "stream",
     "text": [
      "done!\n"
     ]
    }
   ],
   "source": [
    "import pandas as pd\n",
    "import copy\n",
    "\n",
    "# importa dataset\n",
    "mental_health_conversation_dataset = pd.read_csv('./datasets/Mental_Health_FAQ.csv')\n",
    "mental_health_conversation_dataset.drop(columns=['Question_ID'], axis=0, inplace=True)\n",
    "# importa dataset\n",
    "QA_python_dataset = pd.read_csv('./datasets/Dataset_Python_Question_Answer.csv')\n",
    "QA_python_dataset = QA_python_dataset.rename(columns={\"Question\": \"Questions\", \"Answer\": \"Answers\"})\n",
    "#importa dataset\n",
    "conversation_3d_chatbot = pd.read_csv('./datasets/3d-conversation-chatbot.csv')\n",
    "conversation_3d_chatbot.drop(columns=['Unnamed: 0'], axis=0, inplace=True)\n",
    "conversation_3d_chatbot = conversation_3d_chatbot.rename(columns={\"question\": \"Questions\", \"answer\": \"Answers\"})\n",
    "#importa dataset\n",
    "# file = open(\"./datasets/jungleb.txt\", \"r\")\n",
    "# the_jungle_book = file.read()\n",
    "# file.close()\n",
    "# junta datasets\n",
    "df_concated = pd.concat([mental_health_conversation_dataset, QA_python_dataset, conversation_3d_chatbot], ignore_index=True)\n",
    "# tira dados vazios\n",
    "df_concated.dropna()\n",
    "# reseta indexes\n",
    "df_concated = df_concated.reset_index(drop=True)\n",
    "# clona dataset para conservar tratamento\n",
    "df_clone = copy.deepcopy(df_concated)\n",
    "# junta colunas\n",
    "data = {\"text\": []}\n",
    "# data['text'].append(the_jungle_book)\n",
    "for x in range(0, len(df_clone)):\n",
    "    text = \"\".join(df_clone['Questions'][x]+\" \"+df_clone['Answers'][x])+\"\\n\"\n",
    "    data['text'].append(text) \n",
    "df_merged = pd.DataFrame(data)\n",
    "df_clone2 = df_merged.copy()\n",
    "print('done!')"
   ]
  },
  {
   "cell_type": "code",
   "execution_count": 2,
   "id": "9a366232",
   "metadata": {},
   "outputs": [
    {
     "name": "stdout",
     "output_type": "stream",
     "text": [
      "done!\n"
     ]
    }
   ],
   "source": [
    "text = df_clone2.text.values\n",
    "joined_text = \"\".join(text)\n",
    "print('done!')"
   ]
  },
  {
   "cell_type": "code",
   "execution_count": 9,
   "id": "a63510fc",
   "metadata": {},
   "outputs": [
    {
     "data": {
      "text/plain": [
       "\"What does it mean to have a mental illness? Mental illnesses are health conditions that disrupt a personâ€™s thoughts, emotions, relationships, and daily functioning. They are associated with distress and diminished capacity to engage in the ordinary activities of daily life.\\nMental illnesses fall along a continuum of severity: some are fairly mild and only interfere with some aspects of life, such as certain phobias. On the other end of the spectrum lie serious mental illnesses, which result in major functional impairment and interference with daily life. These include such disorders as major depression, schizophrenia, and bipolar disorder, and may require that the person receives care in a hospital.\\nIt is important to know that mental illnesses are medical conditions that have nothing to do with a personâ€™s character, intelligence, or willpower. Just as diabetes is a disorder of the pancreas, mental illness is a medical condition due to the brainâ€™s biology.\\nSimilarly to how one would treat diabetes with medication and insulin, mental illness is treatable with a combination of medication and social support. These treatments are highly effective, with 70-90 percent of individuals receiving treatment experiencing a reduction in symptoms and an improved quality of life. With the proper treatment, it is very possible for a person with mental illness to be independent and successful.\\nWho does mental illness affect? It is estimated that mental illness affects 1 in 5 adults in America, and that 1 in 24 adults have a serious mental illness. Mental illness does not discriminate; it can affect anyone, regardless of gender, age, income, social status, ethnicity, religion, sexual orientation, or background.\\nAlthough mental illness can affect anyone, certain conditions may be more common in different populations. For instance, eating disorders tend to occur more often in females, while disorders such as attention deficit/hyperactivity disorder is more prevalent in children.\\nAdditionally, all ages are susceptible, but the young and the old are especially vulnerable. Mental illnesses usually strike individuals in the prime of their lives, with 75 percent of mental health conditions developing by the age of 24. This makes identification and treatment of mental disorders particularly difficult, because the normal personality and behavioral changes of adolescence may mask symptoms of a mental health condition.\\nParents and caretakers should be aware of this fact, and take notice of changes in their childâ€™s mood, personality, personal habits, and social withdrawal. When these occur in children under 18, they are referred to as serious emotional disturbances (SEDs).\\nWhat causes mental illness? It is estimated that mental illness affects 1 in 5 adults in America, and that 1 in 24 adults have a serious mental illness. Mental illness does not discriminate; it can affect anyone, regardless of gender, age, income, social status, ethnicity, religion, sexual orientation, or background. Although mental illness can affect anyone, certain conditions may be more common in different populations. For instance, eating disorders tend to occur more often in females, while disorders such as attention deficit/hyperactivity disorder is more prevalent in children. Additionally, all ages are susceptible, but the young and the old are especially vulnerable. Mental illnesses usually strike individuals in the prime of their lives, with 75 percent of mental health conditions developing by the age of 24. This makes identification and treatment of mental disorders particularly difficult, because the normal personality and behavioral changes of adolescence may mask symptoms of a mental health condition. Parents and caretakers should be aware of this fact, and take notice of changes in their child’s mood, personality, personal habits, and social withdrawal. When these occur in children under 18, they are referred to as serious emotional disturbances (SEDs).\\nWhat are some of the warning signs of mental illness? Symptoms of mental health disorders vary depending on the type and severity of the condition. The following is a list of general symptoms that may suggest a mental health disorder, particularly when multiple symptoms are expressed at once.\\nIn adults:\\nConfused thinking\\nLong-lasting sadness or irritability\\nExtreme highs and lows in mood\\nExcessive fear, worrying, or anxiety\\nSocial withdrawal\\nDramatic changes in eating or sleeping habits\\nStrong feelings of anger\\nDelusions or hallucinations (seeing or hearing things that are not really there)\\nIncreasing inability to cope with daily problems and activities\\nThoughts of suicide\\nDenial of obvious problems\\nMany unexplained physical problems\\nAbuse of drugs and/or alcohol\\n  In older children and pre-teens:\\nAbuse of drugs and/or alcohol\\nInability to cope with daily problems and activities\\nChanges in sleeping and/or eating habits\\nExcessive complaints of physical problems\\nDefying authority, skipping school, stealing, or damaging property\\nIntense fear of gaining weight\\nLong-lasting negative mood, often along with poor appetite and thoughts of death\\nFrequent outbursts of anger\\n  In younger children:\\nChanges in school performance\\nPoor grades despite strong efforts\\nExcessive worrying or anxiety\\nHyperactivity\\nPersistent nightmares\\nPersistent disobedience and/or aggressive behavior\\nFrequent temper tantrums\\nCan people with mental illness recover? When healing from mental illness, early identification and treatment are of vital importance. Based on the nature of the illness, there are a range of effective treatments available. For any type of treatment, it is essential that the person affected is proactive and fully engaged in their own recovery process.\\nMany people with mental illnesses who are diagnosed and treated respond well, although some might experience a return of symptoms. Even in such cases, with careful monitoring and management of the disorder, it is still quite possible to live a fulfilled and productive life.\\nWhat should I do if I know someone who appears to have the symptoms of a mental disorder? Although this website cannot substitute for professional advice, we encourage those with symptoms to talk to their friends and family members and seek the counsel of a mental health professional. The sooner the mental health condition is identified and treated, the sooner they can get on the path to recovery.\\nIf you know someone who is having problems, don't assume that the issue will resolve itself. Let them know that you care about them, and that there are treatment options available that will help them heal. Speak with a mental health professional or counselor if you think your friend or family member is experiencing the symptoms of a mental health condition. If the affected loved one knows that you support them, they will be more likely to seek out help.\\nHow can I find a mental health professional for myself or my child? Feeling comfortable with the professional you or your child is working with is critical to the success of the treatment. Finding the professional who best fits your needs may require research. Start by searching for providers in your area.\\nWhat treatment options are available? Just as there are different types of medications for physical illness, different treatment options are available for individuals with mental illness. Treatment works differently for different people. It is important to find what works best for you or your child.\\nIf I become involved in treatment, what do I need to know? Since beginning treatment is a big step for individuals and families, it can be very overwhelming. It is important to be as involved and engaged in the treatment process as possible. Some questions you will need to have answered include:\\nWhat is known about the cause of this particular illness?\\nAre there other diagnoses where these symptoms are common?\\nDo you normally include a physical or neurological examination?\\nAre there any additional tests or exams that you would recommend at this point?\\nWould you advise an independent opinion from another psychiatrist at this point?\\nWhat program of treatment is the most helpful with this diagnosis?\\nWill this program involve services by other specialists? If so, who will be responsible for coordinating these services?\\nWhat do you see as the familyâ€™s role in this program of treatment?\\nHow much access will the family have to the individuals who are providing the treatment?\\nWhat medications are generally used with this diagnosis?\\nHow much experience do you have in treating individuals with this illness?\\nWhat can I do to help you in the treatment?\\nWhat is the difference between mental health professionals? There are many types of mental health professionals. The variety of providers and their services may be confusing. Each have various levels of education, training, and may have different areas of expertise. Finding the professional who best fits your needs may require some research.\\nHow can I find a mental health professional right for my child or myself? Feeling comfortable with the professional you or your child is working with is critical to the success of your treatment. Finding the professional who best fits your needs may require some research.\\nIf I become involved in treatment what do I need to know? Beginning treatment is a big step for individuals and families and can be very overwhelming. It is important to continue involvement in the treatment process as much as possible. Some questions you will need to have answered include:\\nWhat is known about the cause of this particular illness?\\nAre there other diagnoses where these symptoms are common?\\nDo you normally include a physical or neurological examination?\\nAre there any additional tests or exams that you would recommend at this point?\\nWould you advise an independent opinion from another psychiatrist at this\""
      ]
     },
     "execution_count": 9,
     "metadata": {},
     "output_type": "execute_result"
    }
   ],
   "source": [
    "joined_text = joined_text[:9900]\n",
    "#joined_text = joined_text.split('\\n')\n",
    "joined_text"
   ]
  },
  {
   "cell_type": "code",
   "execution_count": 4,
   "id": "16a11062",
   "metadata": {},
   "outputs": [
    {
     "name": "stdout",
     "output_type": "stream",
     "text": [
      "done!\n"
     ]
    }
   ],
   "source": [
    "!pip -q install tf-keras\n",
    "print('done!')"
   ]
  },
  {
   "cell_type": "code",
   "execution_count": 5,
   "id": "712e64ce",
   "metadata": {},
   "outputs": [
    {
     "name": "stdout",
     "output_type": "stream",
     "text": [
      "WARNING:tensorflow:From C:\\Users\\igorb\\anaconda3\\Lib\\site-packages\\tf_keras\\src\\losses.py:2976: The name tf.losses.sparse_softmax_cross_entropy is deprecated. Please use tf.compat.v1.losses.sparse_softmax_cross_entropy instead.\n",
      "\n",
      "WARNING:tensorflow:From C:\\Users\\igorb\\anaconda3\\Lib\\site-packages\\tf_keras\\src\\backend.py:873: The name tf.get_default_graph is deprecated. Please use tf.compat.v1.get_default_graph instead.\n",
      "\n"
     ]
    },
    {
     "name": "stderr",
     "output_type": "stream",
     "text": [
      "All PyTorch model weights were used when initializing TFGPT2LMHeadModel.\n",
      "\n",
      "All the weights of TFGPT2LMHeadModel were initialized from the PyTorch model.\n",
      "If your task is similar to the task the model of the checkpoint was trained on, you can already use TFGPT2LMHeadModel for predictions without further training.\n"
     ]
    }
   ],
   "source": [
    "import tensorflow as tf\n",
    "# from transformers import GPT2Tokenizer, TFGPT2Model\n",
    "from transformers import TFGPT2LMHeadModel, GPT2Tokenizer\n",
    "# tokenizer = GPT2Tokenizer.from_pretrained('gpt2-large')\n",
    "# model = TFGPT2Model.from_pretrained('gpt2-large')\n",
    "tokenizer = GPT2Tokenizer.from_pretrained('gpt2-large')\n",
    "model = TFGPT2LMHeadModel.from_pretrained('gpt2-large', pad_token_id=tokenizer.eos_token_id)\n",
    "# tokenizer = GPT2Tokenizer.from_pretrained('gpt2')\n",
    "# model = TFGPT2Model.from_pretrained('gpt2')"
   ]
  },
  {
   "cell_type": "code",
   "execution_count": 6,
   "id": "a90ca08d",
   "metadata": {},
   "outputs": [
    {
     "name": "stdout",
     "output_type": "stream",
     "text": [
      "done!\n"
     ]
    }
   ],
   "source": [
    "def generate_text(inp):\n",
    "    input_ids = tokenizer.encode(inp, return_tensors='tf')\n",
    "    beam_output = model.generate(input_ids, max_length=100, num_beams=5, no_repeat_ngram_size=2, early_stopping=True)\n",
    "    output = tokenizer.decode(beam_output[0], skip_special_tokens=True, clean_up_tokenization_spaces=True)\n",
    "    return \".\".join(output.split(\".\")[:-1])+\".\"\n",
    "print('done!')"
   ]
  },
  {
   "cell_type": "code",
   "execution_count": 8,
   "id": "4b76f381",
   "metadata": {},
   "outputs": [
    {
     "data": {
      "text/plain": [
       "'how can i make you be able to write poems?\"\\n\\n\"I don\\'t know what you\\'re talking about. I\\'m not a poet, but I do know how to make a poem. It\\'s just a matter of finding the right words and putting them together in a way that makes sense to the reader. That\\'s all I can tell you about that. You can ask me any question you want, and I\\'ll be happy to answer it.'"
      ]
     },
     "execution_count": 8,
     "metadata": {},
     "output_type": "execute_result"
    }
   ],
   "source": [
    "generate_text('how can i make you be able to write poems ?')"
   ]
  },
  {
   "cell_type": "code",
   "execution_count": 15,
   "id": "8b75cf25",
   "metadata": {},
   "outputs": [
    {
     "data": {
      "text/plain": [
       "{'input_ids': [2061, 857, 340, 1612, 284, 423, 257, 5110, 8526, 30, 21235, 24024, 389, 1535, 3403, 326, 10114, 257, 1048, 22940, 26391, 8151, 82, 6066, 11, 10825, 11, 6958, 11, 290, 4445, 15025, 13, 1119, 389, 3917, 351, 17087, 290, 23476, 5339, 284, 8209, 287, 262, 8850, 4568, 286, 4445, 1204, 13, 198, 44, 2470, 24024, 2121, 1863, 257, 44422, 286, 19440, 25, 617, 389, 6547, 11607, 290, 691, 18135, 351, 617, 7612, 286, 1204, 11, 884, 355, 1728, 872, 672, 4448, 13, 1550, 262, 584, 886, 286, 262, 10958, 6486, 2726, 5110, 24024, 11, 543, 1255, 287, 1688, 10345, 23992, 290, 14517, 351, 4445, 1204, 13, 2312, 2291, 884, 11916, 355, 1688, 8862, 11, 22794, 11, 290, 31170, 8967, 11, 290, 743, 2421, 326, 262, 1048, 11583, 1337, 287, 257, 4436, 13, 198, 1026, 318, 1593, 284, 760, 326, 5110, 24024, 389, 3315, 3403, 326, 423, 2147, 284, 466, 351, 257, 1048, 22940, 26391, 8151, 82, 2095, 11, 4430, 11, 393, 50094, 13, 2329, 355, 12593, 318, 257, 8967, 286, 262, 22154, 260, 292, 11, 5110, 8526, 318, 257, 3315, 4006, 2233, 284, 262, 3632, 22940, 26391, 8151, 82, 17219, 13, 198, 28039, 284, 703, 530, 561, 2190, 12593, 351, 14103, 290, 14588, 11, 5110, 8526, 318, 2190, 540, 351, 257, 6087, 286, 14103, 290, 1919, 1104, 13, 2312, 13820, 389, 4047, 4050, 11, 351, 4317, 12, 3829, 1411, 286, 3925, 6464, 3513, 13456, 257, 7741, 287, 7460, 290, 281, 6596, 3081, 286, 1204, 13, 2080, 262, 1774, 3513, 11, 340, 318, 845, 1744, 329, 257, 1048, 351, 5110, 8526, 284, 307, 4795, 290, 4388, 13, 198, 8241, 857, 5110, 8526, 2689, 30, 632, 318, 6108, 326, 5110, 8526, 10975, 352, 287, 642, 6490, 287, 2253, 11, 290, 326, 352, 287, 1987, 6490, 423, 257, 2726, 5110, 8526, 13, 21235, 8526, 857, 407, 28433, 26, 340, 460, 2689, 2687, 11, 7692, 286, 5279, 11, 2479, 11, 3739, 11, 1919, 3722, 11, 26289, 11, 5737, 11, 3206, 12852, 11, 393, 4469, 13, 198, 7003, 5110, 8526, 460, 2689, 2687, 11, 1728, 3403, 743, 307, 517, 2219, 287, 1180, 9684, 13, 1114, 4554, 11, 6600, 11916, 4327, 284, 3051, 517, 1690, 287, 12366, 11, 981, 11916, 884, 355, 3241, 11807, 14, 49229, 21797, 8967, 318, 517, 21854, 287, 1751, 13, 198, 23216, 11, 477, 9337, 389, 22084, 11, 475, 262, 1862, 290, 262, 1468, 389, 2592, 8826, 13, 21235, 24024, 3221, 5587, 3925, 287, 262, 6994, 286, 511, 3160, 11, 351, 5441, 1411, 286, 5110, 1535, 3403, 5922, 416, 262, 2479, 286, 1987, 13, 770, 1838, 11795, 290, 3513, 286, 5110, 11916, 3573, 2408, 11, 780, 262, 3487, 8806, 290, 17211, 2458, 286, 37258, 743, 9335, 7460, 286, 257, 5110, 1535, 4006, 13, 198, 42969, 290, 1337, 83, 3979, 815, 307, 3910, 286, 428, 1109, 11, 290, 1011, 4003, 286, 2458, 287, 511, 1200, 22940, 26391, 8151, 82, 10038, 11, 8806, 11, 2614, 13870, 11, 290, 1919, 15220, 13, 1649, 777, 3051, 287, 1751, 739, 1248, 11, 484, 389, 6412, 284, 355, 2726, 7016, 38622, 357, 50, 1961, 82, 737, 198, 2061, 5640, 5110, 8526, 30, 632, 318, 6108, 326, 5110, 8526, 10975, 352, 287, 642, 6490, 287, 2253, 11, 290, 326, 352, 287, 1987, 6490, 423, 257, 2726, 5110, 8526, 13, 21235, 8526, 857, 407, 28433, 26, 340, 460, 2689, 2687, 11, 7692, 286, 5279, 11, 2479, 11, 3739, 11, 1919, 3722, 11, 26289, 11, 5737, 11, 3206, 12852, 11, 393, 4469, 13, 4900, 5110, 8526, 460, 2689, 2687, 11, 1728, 3403, 743, 307, 517, 2219, 287, 1180, 9684, 13, 1114, 4554, 11, 6600, 11916, 4327, 284, 3051, 517, 1690, 287, 12366, 11, 981, 11916, 884, 355, 3241, 11807, 14, 49229, 21797, 8967, 318, 517, 21854, 287, 1751, 13, 12032, 11, 477, 9337, 389, 22084, 11, 475, 262, 1862, 290, 262, 1468, 389, 2592, 8826, 13, 21235, 24024, 3221, 5587, 3925, 287, 262, 6994, 286, 511, 3160, 11, 351, 5441, 1411, 286, 5110, 1535, 3403, 5922, 416, 262, 2479, 286, 1987, 13, 770, 1838, 11795, 290, 3513, 286, 5110, 11916, 3573, 2408, 11, 780, 262, 3487, 8806, 290, 17211, 2458, 286, 37258, 743, 9335, 7460, 286, 257, 5110, 1535, 4006, 13, 28231, 290, 1337, 83, 3979, 815, 307, 3910, 286, 428, 1109, 11, 290, 1011, 4003, 286, 2458, 287, 511, 1200, 447, 247, 82, 10038, 11, 8806, 11, 2614, 13870, 11, 290, 1919, 15220, 13, 1649, 777, 3051, 287, 1751, 739, 1248, 11, 484, 389, 6412, 284, 355, 2726, 7016, 38622, 357, 50, 1961, 82, 737, 198, 2061, 389, 617, 286, 262, 6509, 5895, 286, 5110, 8526, 30, 49559, 286, 5110, 1535, 11916, 7565, 6906, 319, 262, 2099, 290, 19440, 286, 262, 4006, 13, 383, 1708, 318, 257, 1351, 286, 2276, 7460, 326, 743, 1950, 257, 5110, 1535, 8967, 11, 3573, 618, 3294, 7460, 389, 6241, 379, 1752, 13, 198, 818, 6490, 25, 198, 18546, 1484, 3612, 198, 14617, 12, 24810, 25303, 393, 14709, 1799, 198, 36716, 28227, 290, 34119, 287, 10038, 198, 3109, 45428, 3252, 11, 18916, 11, 393, 9751, 198, 20636, 15220, 198, 35, 859, 1512, 2458, 287, 6600, 393, 11029, 13870, 198, 33004, 7666, 286, 8993, 198, 13856, 15880, 393, 40371, 357, 42041, 393, 4854, 1243, 326, 389, 407, 1107, 612, 8, 198, 15562, 2313, 16612, 284, 19271, 351, 4445, 2761, 290, 4568, 198, 10915, 912, 286, 7341, 198, 21306, 498, 286, 3489, 2761, 198, 7085, 43286, 3518, 2761, 198, 4826, 1904, 286, 5010, 290, 14, 273, 5548, 198, 220, 554, 4697, 1751, 290, 662, 12, 660, 641, 25, 198, 4826, 1904, 286, 5010, 290, 14, 273, 5548, 198, 818, 1799, 284, 19271, 351, 4445, 2761, 290, 4568, 198, 29238, 287, 11029, 290, 14, 273, 6600, 13870, 198, 3109, 45428, 9687, 286, 3518, 2761, 198, 7469, 1112, 4934, 11, 31017, 1524, 11, 16568, 11, 393, 14790, 3119, 198, 5317, 1072, 3252, 286, 13977, 3463, 198, 14617, 12, 24810, 4633, 10038, 11, 1690, 1863, 351, 3595, 20788, 290, 6066, 286, 1918, 198, 37, 46018, 503, 6236, 6448, 286, 8993, 198, 220, 554, 7099, 1751, 25, 198, 29238, 287, 1524, 2854, 198, 43920, 19051, 3805, 1913, 4040, 198, 3109, 45428, 18916, 393, 9751, 198, 38197, 21797, 198, 30946, 7609, 33301, 198, 30946, 7609, 42366], 'attention_mask': [1, 1, 1, 1, 1, 1, 1, 1, 1, 1, 1, 1, 1, 1, 1, 1, 1, 1, 1, 1, 1, 1, 1, 1, 1, 1, 1, 1, 1, 1, 1, 1, 1, 1, 1, 1, 1, 1, 1, 1, 1, 1, 1, 1, 1, 1, 1, 1, 1, 1, 1, 1, 1, 1, 1, 1, 1, 1, 1, 1, 1, 1, 1, 1, 1, 1, 1, 1, 1, 1, 1, 1, 1, 1, 1, 1, 1, 1, 1, 1, 1, 1, 1, 1, 1, 1, 1, 1, 1, 1, 1, 1, 1, 1, 1, 1, 1, 1, 1, 1, 1, 1, 1, 1, 1, 1, 1, 1, 1, 1, 1, 1, 1, 1, 1, 1, 1, 1, 1, 1, 1, 1, 1, 1, 1, 1, 1, 1, 1, 1, 1, 1, 1, 1, 1, 1, 1, 1, 1, 1, 1, 1, 1, 1, 1, 1, 1, 1, 1, 1, 1, 1, 1, 1, 1, 1, 1, 1, 1, 1, 1, 1, 1, 1, 1, 1, 1, 1, 1, 1, 1, 1, 1, 1, 1, 1, 1, 1, 1, 1, 1, 1, 1, 1, 1, 1, 1, 1, 1, 1, 1, 1, 1, 1, 1, 1, 1, 1, 1, 1, 1, 1, 1, 1, 1, 1, 1, 1, 1, 1, 1, 1, 1, 1, 1, 1, 1, 1, 1, 1, 1, 1, 1, 1, 1, 1, 1, 1, 1, 1, 1, 1, 1, 1, 1, 1, 1, 1, 1, 1, 1, 1, 1, 1, 1, 1, 1, 1, 1, 1, 1, 1, 1, 1, 1, 1, 1, 1, 1, 1, 1, 1, 1, 1, 1, 1, 1, 1, 1, 1, 1, 1, 1, 1, 1, 1, 1, 1, 1, 1, 1, 1, 1, 1, 1, 1, 1, 1, 1, 1, 1, 1, 1, 1, 1, 1, 1, 1, 1, 1, 1, 1, 1, 1, 1, 1, 1, 1, 1, 1, 1, 1, 1, 1, 1, 1, 1, 1, 1, 1, 1, 1, 1, 1, 1, 1, 1, 1, 1, 1, 1, 1, 1, 1, 1, 1, 1, 1, 1, 1, 1, 1, 1, 1, 1, 1, 1, 1, 1, 1, 1, 1, 1, 1, 1, 1, 1, 1, 1, 1, 1, 1, 1, 1, 1, 1, 1, 1, 1, 1, 1, 1, 1, 1, 1, 1, 1, 1, 1, 1, 1, 1, 1, 1, 1, 1, 1, 1, 1, 1, 1, 1, 1, 1, 1, 1, 1, 1, 1, 1, 1, 1, 1, 1, 1, 1, 1, 1, 1, 1, 1, 1, 1, 1, 1, 1, 1, 1, 1, 1, 1, 1, 1, 1, 1, 1, 1, 1, 1, 1, 1, 1, 1, 1, 1, 1, 1, 1, 1, 1, 1, 1, 1, 1, 1, 1, 1, 1, 1, 1, 1, 1, 1, 1, 1, 1, 1, 1, 1, 1, 1, 1, 1, 1, 1, 1, 1, 1, 1, 1, 1, 1, 1, 1, 1, 1, 1, 1, 1, 1, 1, 1, 1, 1, 1, 1, 1, 1, 1, 1, 1, 1, 1, 1, 1, 1, 1, 1, 1, 1, 1, 1, 1, 1, 1, 1, 1, 1, 1, 1, 1, 1, 1, 1, 1, 1, 1, 1, 1, 1, 1, 1, 1, 1, 1, 1, 1, 1, 1, 1, 1, 1, 1, 1, 1, 1, 1, 1, 1, 1, 1, 1, 1, 1, 1, 1, 1, 1, 1, 1, 1, 1, 1, 1, 1, 1, 1, 1, 1, 1, 1, 1, 1, 1, 1, 1, 1, 1, 1, 1, 1, 1, 1, 1, 1, 1, 1, 1, 1, 1, 1, 1, 1, 1, 1, 1, 1, 1, 1, 1, 1, 1, 1, 1, 1, 1, 1, 1, 1, 1, 1, 1, 1, 1, 1, 1, 1, 1, 1, 1, 1, 1, 1, 1, 1, 1, 1, 1, 1, 1, 1, 1, 1, 1, 1, 1, 1, 1, 1, 1, 1, 1, 1, 1, 1, 1, 1, 1, 1, 1, 1, 1, 1, 1, 1, 1, 1, 1, 1, 1, 1, 1, 1, 1, 1, 1, 1, 1, 1, 1, 1, 1, 1, 1, 1, 1, 1, 1, 1, 1, 1, 1, 1, 1, 1, 1, 1, 1, 1, 1, 1, 1, 1, 1, 1, 1, 1, 1, 1, 1, 1, 1, 1, 1, 1, 1, 1, 1, 1, 1, 1, 1, 1, 1, 1, 1, 1, 1, 1, 1, 1, 1, 1, 1, 1, 1, 1, 1, 1, 1, 1, 1, 1, 1, 1, 1, 1, 1, 1, 1, 1, 1, 1, 1, 1, 1, 1, 1, 1, 1, 1, 1, 1, 1, 1, 1, 1, 1, 1, 1, 1, 1, 1, 1, 1, 1, 1, 1, 1, 1, 1, 1, 1, 1, 1, 1, 1, 1, 1, 1, 1, 1, 1, 1, 1, 1, 1, 1, 1, 1, 1, 1, 1, 1, 1, 1, 1, 1, 1, 1, 1, 1, 1, 1, 1, 1, 1, 1, 1, 1, 1, 1, 1, 1, 1, 1, 1, 1, 1, 1, 1, 1, 1, 1, 1, 1, 1, 1, 1, 1, 1, 1, 1, 1, 1, 1, 1, 1, 1, 1, 1, 1, 1, 1, 1, 1, 1, 1, 1, 1, 1, 1, 1, 1, 1, 1, 1, 1, 1, 1, 1, 1, 1, 1, 1, 1, 1, 1, 1, 1, 1, 1, 1, 1, 1, 1, 1, 1, 1, 1, 1, 1, 1, 1, 1, 1, 1, 1, 1, 1, 1, 1, 1, 1, 1, 1, 1, 1, 1, 1, 1, 1, 1, 1, 1, 1, 1, 1, 1, 1, 1, 1, 1, 1, 1, 1, 1, 1, 1, 1, 1, 1, 1, 1, 1, 1, 1, 1, 1, 1, 1, 1, 1, 1, 1, 1, 1, 1, 1, 1, 1, 1, 1, 1, 1, 1, 1, 1, 1, 1, 1, 1, 1, 1, 1, 1, 1, 1, 1, 1, 1, 1, 1, 1, 1, 1, 1, 1, 1, 1, 1, 1, 1, 1, 1, 1, 1, 1, 1, 1, 1, 1, 1, 1, 1, 1, 1, 1, 1, 1, 1, 1, 1, 1, 1, 1, 1, 1, 1, 1, 1, 1, 1, 1, 1, 1, 1, 1, 1, 1, 1, 1, 1, 1, 1, 1, 1, 1, 1, 1, 1, 1, 1, 1, 1, 1, 1, 1, 1, 1, 1, 1, 1, 1]}"
      ]
     },
     "execution_count": 15,
     "metadata": {},
     "output_type": "execute_result"
    }
   ],
   "source": [
    "tokenized_data"
   ]
  },
  {
   "cell_type": "code",
   "execution_count": 14,
   "id": "2259777a",
   "metadata": {},
   "outputs": [
    {
     "ename": "ValueError",
     "evalue": "too many values to unpack (expected 2)",
     "output_type": "error",
     "traceback": [
      "\u001b[1;31m---------------------------------------------------------------------------\u001b[0m",
      "\u001b[1;31mValueError\u001b[0m                                Traceback (most recent call last)",
      "Cell \u001b[1;32mIn[14], line 31\u001b[0m\n\u001b[0;32m     28\u001b[0m \u001b[38;5;66;03m# Assuming tokenized_data contains a dictionary with encoder_input and labels\u001b[39;00m\n\u001b[0;32m     29\u001b[0m \u001b[38;5;28;01mfor\u001b[39;00m epoch \u001b[38;5;129;01min\u001b[39;00m \u001b[38;5;28mrange\u001b[39m(epochs):\n\u001b[0;32m     30\u001b[0m     \u001b[38;5;66;03m# Loop through training data in batches\u001b[39;00m\n\u001b[1;32m---> 31\u001b[0m     \u001b[38;5;28;01mfor\u001b[39;00m encoder_batch, labels_batch \u001b[38;5;129;01min\u001b[39;00m tokenized_data:\n\u001b[0;32m     32\u001b[0m         loss \u001b[38;5;241m=\u001b[39m train_step(encoder_batch, labels_batch)\n\u001b[0;32m     33\u001b[0m         \u001b[38;5;66;03m# Print training progress (optional)\u001b[39;00m\n",
      "\u001b[1;31mValueError\u001b[0m: too many values to unpack (expected 2)"
     ]
    }
   ],
   "source": [
    "# fine tunning\n",
    "\n",
    "tokenizer.pad_token = tokenizer.eos_token  # Set pad token to EOS token\n",
    "# Assuming your preprocessed text data is in a list called `text_data`\n",
    "tokenized_data = tokenizer(joined_text, truncation=True, padding=\"max_length\")\n",
    "# tokenizer(text_data): Converts text data into token sequences\n",
    "# truncation=True: Truncates sequences to a specific maximum length\n",
    "# padding=\"max_length\": Pads shorter sequences to match the longest one in the batch\n",
    "\n",
    "learning_rate = 0.2\n",
    "batch_size = 8\n",
    "epochs = 3\n",
    "# Learning Rate: Set the learning rate for the optimizer (e.g., learning_rate = 2e-5).\n",
    "# Batch Size: Define the number of training examples processed in a single batch (e.g., batch_size = 8).\n",
    "# Epochs: Specify the number of times to iterate through the entire dataset for training (e.g., epochs = 3).\n",
    "\n",
    "@tf.function\n",
    "def train_step(encoder_input, labels):\n",
    "    with tf.GradientTape() as tape:\n",
    "        outputs = model(encoder_input, labels=labels)  # Removed decoder_input as it's not needed for language modeling tasks\n",
    "        loss = outputs.loss\n",
    "    gradients = tape.gradient(loss, model.trainable_variables)\n",
    "    optimizer.apply_gradients(zip(gradients, model.trainable_variables))\n",
    "    return loss\n",
    "\n",
    "optimizer = tf.keras.optimizers.Adam(learning_rate=learning_rate)\n",
    "\n",
    "# Assuming tokenized_data contains a dictionary with encoder_input and labels\n",
    "for epoch in range(epochs):\n",
    "    # Loop through training data in batches\n",
    "    for encoder_batch, labels_batch in tokenized_data:\n",
    "        loss = train_step(encoder_batch, labels_batch)\n",
    "        # Print training progress (optional)\n",
    "        print(f\"Epoch {epoch+1}, Batch Loss: {loss.numpy()}\")\n",
    "\n",
    "'''\n",
    "7. Freeze Pre-trained Layers (Optional):\n",
    "To prevent overfitting and leverage pre-trained knowledge, consider freezing the weights of the pre-trained model's earlier \n",
    "layers. You can achieve this by setting the trainable attribute of those layers to False.\n",
    "'''"
   ]
  },
  {
   "cell_type": "code",
   "execution_count": null,
   "id": "d204730f",
   "metadata": {},
   "outputs": [],
   "source": []
  },
  {
   "cell_type": "code",
   "execution_count": null,
   "id": "9a35b60d",
   "metadata": {},
   "outputs": [],
   "source": []
  },
  {
   "cell_type": "code",
   "execution_count": null,
   "id": "b5ebcd89",
   "metadata": {},
   "outputs": [],
   "source": []
  },
  {
   "cell_type": "code",
   "execution_count": null,
   "id": "a9d7fe36",
   "metadata": {},
   "outputs": [],
   "source": []
  },
  {
   "cell_type": "code",
   "execution_count": null,
   "id": "ef1ac39a",
   "metadata": {},
   "outputs": [],
   "source": []
  }
 ],
 "metadata": {
  "kernelspec": {
   "display_name": "Python 3 (ipykernel)",
   "language": "python",
   "name": "python3"
  },
  "language_info": {
   "codemirror_mode": {
    "name": "ipython",
    "version": 3
   },
   "file_extension": ".py",
   "mimetype": "text/x-python",
   "name": "python",
   "nbconvert_exporter": "python",
   "pygments_lexer": "ipython3",
   "version": "3.11.7"
  }
 },
 "nbformat": 4,
 "nbformat_minor": 5
}
